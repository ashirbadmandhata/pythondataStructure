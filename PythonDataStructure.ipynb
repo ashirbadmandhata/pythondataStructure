{
  "nbformat": 4,
  "nbformat_minor": 0,
  "metadata": {
    "colab": {
      "provenance": []
    },
    "kernelspec": {
      "name": "python3",
      "display_name": "Python 3"
    },
    "language_info": {
      "name": "python"
    }
  },
  "cells": [
    {
      "cell_type": "markdown",
      "source": [
        "# Python - Data Structure\n",
        "\n",
        "     "
      ],
      "metadata": {
        "id": "yAcZ2BtzFJGC"
      }
    },
    {
      "cell_type": "markdown",
      "source": [
        "1. What are data structures, and why are they important?\n",
        "    - Data structures in Python are specialized formats used to store, organize, and manipulate data efficiently. Python offers a variety of built-in data structures, as well as support for implementing custom data structures. These structures help solve problems effectively by providing a way to manage data in a way that suits the specific needs of a program.\n",
        "\n",
        "    - Built-In Data Structures in Python:\n",
        "Lists: Ordered, mutable, and can store items of different types.\n",
        "Example: my_list = [1, 'apple', 3.5]\n",
        "Tuples: Ordered, immutable, and can store heterogeneous data.\n",
        "Example: my_tuple = (1, 'banana', 4.2)\n",
        "Dictionaries: Key-value pairs, unordered, mutable.\n",
        "Example: my_dict = {'name': 'John', 'age': 30}\n",
        "Sets: Unordered collection of unique items.\n",
        "Example: my_set = {1, 2, 3}\n",
        "Strings: Immutable sequences of characters.\n",
        "Example: my_string = \"Hello\"\n",
        "\n",
        "  - Data structures are important because they organize data efficiently, optimize performance, enable scalable solutions, and support advanced algorithms. They improve code readability, maintainability, and problem-solving flexibility by allowing the use of the right structure for specific tasks.\n",
        "\n",
        "\n",
        "2. Explain the difference between mutable and immutable data types with examples?\n",
        "   - In Python, mutable and immutable data types differ based on whether their content can be changed after creation.\n",
        "\n",
        "   - Mutable Data Types\n",
        "     These data types allow modification of their content without changing their identity.\n",
        "\n",
        "- Examples:\n",
        "  - List:\n",
        "    ```python\n",
        "    my_list = [1, 2, 3]\n",
        "    my_list[0] = 10  \n",
        "    print(my_list)  \n",
        "    ```\n",
        "  - Dictionary:\n",
        "    ```python\n",
        "    my_dict = {'a': 1, 'b': 2}\n",
        "    my_dict['a'] = 10  \n",
        "    print(my_dict)  \n",
        "    ```\n",
        "  - set:\n",
        "    ```python\n",
        "    my_set = {1, 2, 3}\n",
        "    my_set.add(4)  \n",
        "    print(my_set)\n",
        "    ```\n",
        "\n",
        "   - Immutable Data Types\n",
        "     These data types cannot be modified once created. Any \"modification\" results in the creation of a new object.\n",
        "\n",
        "- Examples:\n",
        "  - Tuple:\n",
        "    ```python\n",
        "    my_tuple = (1, 2, 3)\n",
        "    # my_tuple[0] = 10\n",
        "    ```\n",
        "  - String:\n",
        "    ```python\n",
        "    my_string = \"hello\"\n",
        "    my_string = my_string + \" world\"  \n",
        "    print(my_string)\n",
        "    ```\n",
        "  - Numbers:\n",
        "    ```python\n",
        "    x = 10\n",
        "    x = x + 1  # Creates a new integer object\n",
        "    print(x)  # Output: 11\n",
        "    ```\n",
        "3. What are the main differences between lists and tuples in Python?\n",
        "     - Lists and tuples in Python differ primarily in their mutability, usage, and performance:\n",
        "\n",
        "- Mutability:\n",
        "   - Lists are mutable, meaning their content can be modified after creation.\n",
        "   - Tuples are immutable, so their content cannot be changed once created.\n",
        "\n",
        "- Syntax:\n",
        "   - Lists are defined using square brackets `[ ]`.\n",
        "   - Tuples are defined using parentheses `( )`.\n",
        "\n",
        "- Performance:\n",
        "   - Lists are slower because their mutability adds overhead.\n",
        "   - Tuples are faster as they are immutable and simpler.\n",
        "\n",
        "- Use Cases:\n",
        "   - Lists are used when the data is expected to change, such as dynamic datasets.\n",
        "   - Tuples are used for fixed or constant data.\n",
        "\n",
        "- Methods:\n",
        "   - Lists have many methods like `append()`, `remove()`, and `extend()` for modifying their content.\n",
        "   - Tuples have fewer methods, such as `count()` and `index()`, since they cannot be changed.\n",
        "\n",
        "- Hashability:\n",
        "   - Lists are not hashable and cannot be used as keys in dictionaries.\n",
        "   - Tuples are hashable (if their elements are hashable) and can be used as dictionary keys.\n",
        "\n",
        "-  Iteration:\n",
        "   - Iterating over lists is slightly slower.\n",
        "   - Tuples are faster to iterate due to their immutability.\n",
        "\n",
        "   - Memory Usage:\n",
        "     - Lists consume more memory.\n",
        "     - Tuples consume less memory.\n",
        "\n",
        "   -  Examples:\n",
        "      - List Example:\n",
        "```python\n",
        "my_list = [1, 2, 3]\n",
        "my_list[0] = 10  # Allowed\n",
        "my_list.append(4)  # Modifying the list\n",
        "print(my_list)  # Output: [10, 2, 3, 4]\n",
        "```\n",
        "\n",
        "    - Tuple Example:\n",
        "        -  ```python\n",
        "             my_tuple = (1, 2, 3)\n",
        "              # my_tuple[0] = 10  \n",
        "            print(my_tuple)\n",
        "           ```\n",
        "\n",
        "\n",
        "4. Describe how dictionaries store data?\n",
        "   - Dictionaries in Python store data as key-value pairs in a hash table. Each key is hashed to generate a unique index in the table, which points to its corresponding value. Here’s how it works:\n",
        "\n",
        "- Keys:\n",
        "   - Keys must be immutable and hashable (e.g., strings, numbers, tuples).\n",
        "   - A key's hash value is computed using Python's hash function.\n",
        "\n",
        "- Values:\n",
        "   - Values can be any data type and are not required to be unique.\n",
        "\n",
        "- Storage Mechanism:\n",
        "   - Internally, dictionaries use a **hash table** for efficient data retrieval.\n",
        "   - The hash table ensures an average time complexity of O(1) for lookups, insertions, and deletions.\n",
        "\n",
        "- Handling Collisions:\n",
        "   - If two keys hash to the same index (a collision), Python resolves it using techniques like open addressing or chaining.\n",
        "\n",
        "- Example:\n",
        "```python\n",
        "my_dict = {'name': 'Alice', 'age': 25}\n",
        "# 'name' and 'age' are keys; 'Alice' and 25 are values.\n",
        "```\n",
        "\n",
        "\n",
        "5. Why might you use a set instead of a list in Python?\n",
        "\n",
        "    - A set might be used instead of a list for the following reasons:\n",
        "\n",
        "- Unique Elements:\n",
        "   - A set automatically removes duplicate elements.\n",
        "   - Use a set when you need a collection of unique items.\n",
        "   - Example:\n",
        "     ```python\n",
        "     my_list = [1, 2, 2, 3]\n",
        "     my_set = set(my_list)  # Removes duplicates\n",
        "     print(my_set)  # Output: {1, 2, 3}\n",
        "     ```\n",
        "\n",
        "- Fast Membership Testing:\n",
        "   - Checking if an element exists in a set is much faster (average O(1)) than in a list (average O(n)).\n",
        "   - Example:\n",
        "     ```python\n",
        "     my_set = {1, 2, 3}\n",
        "     print(2 in my_set)  \n",
        "     ```\n",
        "\n",
        "- Operations on Sets:\n",
        "   - Sets support mathematical operations like union, intersection, and difference, which are not directly available for lists.\n",
        "   - Example:\n",
        "     ```python\n",
        "     set1 = {1, 2, 3}\n",
        "     set2 = {3, 4, 5}\n",
        "     print(set1 & set2)  \n",
        "     ```\n",
        "\n",
        "- Performance:\n",
        "   - Sets are implemented using hash tables, making them more efficient for operations involving uniqueness or membership tests compared to lists.\n",
        "\n",
        "- When to Use a List:\n",
        "   - When you need ordered data.\n",
        "   - When duplicates are required.\n",
        "   - When the data must support indexing and slicing.\n",
        "\n",
        "\n",
        "\n",
        "6. What is a string in Python, and how is it different from a list?  \n",
        "    - A string is an immutable sequence of characters used to store text data.\n",
        "    - Unlike lists:  \n",
        "    - Strings are immutable, while lists are mutable.  \n",
        "    - Strings store only characters, while lists can store elements of any data type.  \n",
        "    - Strings are accessed character by character, whereas lists allow complex operations like appending and slicing.  \n",
        "\n",
        "\n",
        "7. How do tuples ensure data integrity in Python\n",
        "    - Tuples are immutable, meaning their content cannot be changed after creation. This ensures that data remains constant and prevents accidental modifications, making tuples ideal for storing fixed or critical data.\n",
        "\n",
        "\n",
        "\n",
        "8. What is a hash table, and how does it relate to dictionaries in Python?\n",
        "     - A hash table is a data structure that stores key-value pairs using a hashing function. In Python, dictionaries are implemented as hash tables, enabling efficient operations like lookups, insertions, and deletions with an average time complexity of O(1).\n",
        "\n",
        "\n",
        "\n",
        "9. Can lists contain different data types in Python?  \n",
        "   - Yes, Python lists can store elements of different data types, such as integers, strings, objects, or even other lists.  \n",
        "Example:  \n",
        "```python\n",
        "my_list = [1, \"hello\", [2, 3], 4.5]\n",
        "```\n",
        "\n",
        "\n",
        "\n",
        "10. Why are strings immutable in Python?\n",
        "    - Strings are immutable to improve performance and memory efficiency, as their fixed nature allows Python to reuse string objects. This also ensures thread safety and avoids unintended side effects when multiple references exist.\n",
        "\n",
        "\n",
        "11. What advantages do dictionaries offer over lists for certain tasks?  \n",
        "     - Dictionaries provide:  \n",
        "        - Fast lookups using keys (O(1) complexity).  \n",
        "        - Key-value pairing, enabling more structured data representation.  \n",
        "        - Better performance for tasks requiring quick data access via unique identifiers.\n",
        "\n",
        "\n",
        "12. Describe a scenario where using a tuple would be preferable over a list?  \n",
        "Use a tuple when:  \n",
        "    - Data must remain constant (e.g., coordinates, database records).  \n",
        "    - You need an immutable and hashable collection, such as keys for a dictionary.\n",
        "\n",
        "\n",
        "\n",
        "13.  How do sets handle duplicate values in Python?  \n",
        "     - Sets automatically eliminate duplicate values. If duplicates are added, only one instance of each value is retained.  \n",
        "Example:  \n",
        "```python\n",
        "my_set = {1, 2, 2, 3}  # Result: {1, 2, 3}\n",
        "```\n",
        "\n",
        "\n",
        "14. How does the “in” keyword work differently for lists and dictionaries?  \n",
        "    - Lists: Checks for membership by iterating through the list (O(n)).  \n",
        "  ```python\n",
        "  print(2 in [1, 2, 3])\n",
        "  ```\n",
        "    - Dictionaries: Checks for keys using the hash table (O(1)).  \n",
        "  ```python\n",
        "  print('key' in {'key': 'value'})  \n",
        "  ```\n",
        "\n",
        "\n",
        "\n",
        "\n",
        "\n",
        "15. Can you modify the elements of a tuple? Explain why or why not.  \n",
        "     - No, you cannot modify the elements of a tuple because tuples are immutable. Once created, their contents cannot be changed, ensuring data integrity and making them suitable for constant data.  \n",
        "\n",
        "\n",
        "\n",
        "16. What is a nested dictionary, and give an example of its use case?  \n",
        "   - A nested dictionary is a dictionary where values are themselves dictionaries. It is used for storing hierarchical or multi-level data.  \n",
        "Example:  \n",
        "```python\n",
        "students = {\n",
        "    \"Ashis\": {\"math\": 90, \"science\": 85},\n",
        "    \"Rony\": {\"math\": 80, \"science\": 88}\n",
        "}\n",
        "```  \n",
        "Use case: Managing data for multiple entities, like student scores across subjects.\n",
        "\n",
        "\n",
        "\n",
        "17. Describe the time complexity of accessing elements in a dictionary?\n",
        "    - Accessing elements in a dictionary has an average time complexity of O(1), thanks to its hash table implementation. However, in the worst case (e.g., hash collisions), the complexity can degrade to O(n).\n",
        "\n",
        "\n",
        "\n",
        "18. In what situations are lists preferred over dictionaries?\n",
        "     - Lists are preferred when:  \n",
        "     - Order of elements matters.  \n",
        "     - You need sequential data processing.  \n",
        "     - Elements are accessed by position (index) rather than keys.  \n",
        "     - Data is simple and doesn't require a key-value structure.\n",
        "\n",
        "\n",
        "\n",
        "19. Why are dictionaries considered unordered, and how does that affect data retrieval?  \n",
        "    - Dictionaries are considered unordered because, until Python 3.7, they did not guarantee key order in memory. Now, insertion order is preserved, but data retrieval relies on keys rather than positional indexing. This means you cannot retrieve elements by index but must use the corresponding keys.\n",
        "\n",
        "\n",
        "\n",
        "20. Explain the difference between a list and a dictionary in terms of data retrieval.?  \n",
        "    - List: Access elements by position (index) with an average time complexity of O(1).  \n",
        "  ```python\n",
        "  my_list = [10, 20, 30]\n",
        "  print(my_list[1])\n",
        "  ```\n",
        "    - Dictionary: Access elements by keys with an average time complexity of O(1), but no positional indexing.  \n",
        "  ```python\n",
        "  my_dict = {'a': 10, 'b': 20}\n",
        "  print(my_dict['b'])\n",
        "  ```"
      ],
      "metadata": {
        "id": "ecVFIaJEH3jz"
      }
    },
    {
      "cell_type": "markdown",
      "source": [
        "# Practical Questions"
      ],
      "metadata": {
        "id": "Y88XnuWMXSaC"
      }
    },
    {
      "cell_type": "code",
      "source": [
        "#1. Write a code to create a string with your name and print it?\n",
        "\n",
        "name = \"Ashirbad Mandhata\"\n",
        "\n",
        "print(name)\n"
      ],
      "metadata": {
        "colab": {
          "base_uri": "https://localhost:8080/"
        },
        "id": "4VHxMAaGXs-P",
        "outputId": "ccb99349-ae56-4502-ade1-acb60cbc8b94"
      },
      "execution_count": 1,
      "outputs": [
        {
          "output_type": "stream",
          "name": "stdout",
          "text": [
            "Ashirbad Mandhata\n"
          ]
        }
      ]
    },
    {
      "cell_type": "code",
      "source": [
        "#2 Write a code to find the length of the string \"Hello World\"?\n",
        "my_string = \"Hello World\"\n",
        "\n",
        "length = len(my_string)\n",
        "print(length)"
      ],
      "metadata": {
        "colab": {
          "base_uri": "https://localhost:8080/"
        },
        "id": "HwhrSPwrYxE5",
        "outputId": "eaf61e75-59ba-4d19-ea40-fb6694eb79fc"
      },
      "execution_count": 2,
      "outputs": [
        {
          "output_type": "stream",
          "name": "stdout",
          "text": [
            "11\n"
          ]
        }
      ]
    },
    {
      "cell_type": "code",
      "source": [
        "#3 Write a code to slice the first 3 characters from the string \"Python Programming\"?\n",
        "my_string = \"Python Programming\"\n",
        "\n",
        "sliced_string = my_string[:3]\n",
        "print(sliced_string)\n"
      ],
      "metadata": {
        "colab": {
          "base_uri": "https://localhost:8080/"
        },
        "id": "Fr1TM_6bZilI",
        "outputId": "43d4918e-14a1-42b6-a4eb-b768adf86a32"
      },
      "execution_count": 3,
      "outputs": [
        {
          "output_type": "stream",
          "name": "stdout",
          "text": [
            "Pyt\n"
          ]
        }
      ]
    },
    {
      "cell_type": "code",
      "source": [
        "#4 Write a code to convert the string \"hello\" to uppercase?\n",
        "my_string = \"hello\"\n",
        "\n",
        "uppercase_string = my_string.upper()\n",
        "\n",
        "print(uppercase_string)\n"
      ],
      "metadata": {
        "colab": {
          "base_uri": "https://localhost:8080/"
        },
        "id": "vt6_szYUabFD",
        "outputId": "27207e8c-4e9d-43b4-ddb8-078b3e4b8dcb"
      },
      "execution_count": 4,
      "outputs": [
        {
          "output_type": "stream",
          "name": "stdout",
          "text": [
            "HELLO\n"
          ]
        }
      ]
    },
    {
      "cell_type": "code",
      "source": [
        "#5 Write a code to replace the word \"apple\" with \"orange\" in the string \"I like apple\"?\n",
        "my_string = \"I like apple\"\n",
        "new_string = my_string.replace(\"apple\", \"orange\")\n",
        "print(new_string)\n"
      ],
      "metadata": {
        "colab": {
          "base_uri": "https://localhost:8080/"
        },
        "id": "cf-hmEuwavW0",
        "outputId": "c7f81fa6-d553-4b19-cdc7-21a8b1d66015"
      },
      "execution_count": 5,
      "outputs": [
        {
          "output_type": "stream",
          "name": "stdout",
          "text": [
            "I like orange\n"
          ]
        }
      ]
    },
    {
      "cell_type": "code",
      "source": [
        "#6 Write a code to create a list with numbers 1 to 5 and print it?\n",
        "\n",
        "my_list = [1, 2, 3, 4, 5]\n",
        "\n",
        "print(my_list)\n"
      ],
      "metadata": {
        "colab": {
          "base_uri": "https://localhost:8080/"
        },
        "id": "Ix2kIYk6i0SO",
        "outputId": "62ca6437-e433-435e-a190-a516edfcdeb7"
      },
      "execution_count": 6,
      "outputs": [
        {
          "output_type": "stream",
          "name": "stdout",
          "text": [
            "[1, 2, 3, 4, 5]\n"
          ]
        }
      ]
    },
    {
      "cell_type": "code",
      "source": [
        "#7 Write a code to append the number 10 to the list [1, 2, 3, 4]?\n",
        "\n",
        "my_list = [1, 2, 3, 4]\n",
        "my_list.append(10)\n",
        "\n",
        "print(my_list)\n"
      ],
      "metadata": {
        "colab": {
          "base_uri": "https://localhost:8080/"
        },
        "id": "pVfpqQ4TjuUZ",
        "outputId": "ee9093b2-970f-4d3b-eed5-32909a19f47b"
      },
      "execution_count": 7,
      "outputs": [
        {
          "output_type": "stream",
          "name": "stdout",
          "text": [
            "[1, 2, 3, 4, 10]\n"
          ]
        }
      ]
    },
    {
      "cell_type": "code",
      "source": [
        "#8 Write a code to remove the number 3 from the list [1, 2, 3, 4, 5]\n",
        "\n",
        "my_list = [1, 2, 3, 4, 5]\n",
        "my_list.remove(3)\n",
        "print(my_list)"
      ],
      "metadata": {
        "colab": {
          "base_uri": "https://localhost:8080/"
        },
        "id": "YYtnfysxkGok",
        "outputId": "1dff931d-7ad4-49d9-93ce-1b780fce1b09"
      },
      "execution_count": 8,
      "outputs": [
        {
          "output_type": "stream",
          "name": "stdout",
          "text": [
            "[1, 2, 4, 5]\n"
          ]
        }
      ]
    },
    {
      "cell_type": "code",
      "source": [
        "#9 Write a code to access the second element in the list ['a', 'b', 'c', 'd']?\n",
        "\n",
        "my_list = ['a', 'b', 'c', 'd']\n",
        "second_element = my_list[1]\n",
        "print(second_element)"
      ],
      "metadata": {
        "colab": {
          "base_uri": "https://localhost:8080/"
        },
        "id": "nNEY97BNkp2i",
        "outputId": "134fcedb-cee4-44bd-c9a9-a682f6cc05bf"
      },
      "execution_count": 9,
      "outputs": [
        {
          "output_type": "stream",
          "name": "stdout",
          "text": [
            "b\n"
          ]
        }
      ]
    },
    {
      "cell_type": "code",
      "source": [
        "#10 Write a code to reverse the list [10, 20, 30, 40, 50]?\n",
        "\n",
        "my_list = [10, 20, 30, 40, 50]\n",
        "\n",
        "my_list.reverse()\n",
        "print(my_list)"
      ],
      "metadata": {
        "colab": {
          "base_uri": "https://localhost:8080/"
        },
        "id": "hpFciUR5lF3o",
        "outputId": "c3f1e9a9-e7ad-4987-9d48-38719a483f43"
      },
      "execution_count": 10,
      "outputs": [
        {
          "output_type": "stream",
          "name": "stdout",
          "text": [
            "[50, 40, 30, 20, 10]\n"
          ]
        }
      ]
    },
    {
      "cell_type": "code",
      "source": [
        "#11 Write a code to create a tuple with the elements 10, 20, 30 and print it?\n",
        "\n",
        "my_tuple = (10, 20, 30)\n",
        "print(my_tuple)"
      ],
      "metadata": {
        "colab": {
          "base_uri": "https://localhost:8080/"
        },
        "id": "GiNHhef7lgoO",
        "outputId": "181a0d7d-303c-4723-a04e-897a6bc0b960"
      },
      "execution_count": 11,
      "outputs": [
        {
          "output_type": "stream",
          "name": "stdout",
          "text": [
            "(10, 20, 30)\n"
          ]
        }
      ]
    },
    {
      "cell_type": "code",
      "source": [
        "#12  Write a code to access the first element of the tuple ('apple', 'banana', 'cherry').\n",
        "my_tuple = ('apple', 'banana', 'cherry')\n",
        "\n",
        "first_element = my_tuple[0]\n",
        "print(first_element)"
      ],
      "metadata": {
        "colab": {
          "base_uri": "https://localhost:8080/"
        },
        "id": "YSbpcLOBmBtv",
        "outputId": "0612dbbd-383b-4f4d-eb86-dcd2b549161e"
      },
      "execution_count": 12,
      "outputs": [
        {
          "output_type": "stream",
          "name": "stdout",
          "text": [
            "apple\n"
          ]
        }
      ]
    },
    {
      "cell_type": "code",
      "source": [
        "#13 Write a code to count how many times the number 2 appears in the tuple (1, 2, 3, 2, 4, 2)\n",
        "\n",
        "my_tuple = (1, 2, 3, 2, 4, 2)\n",
        "count_of_2 = my_tuple.count(2)\n",
        "print(count_of_2)"
      ],
      "metadata": {
        "colab": {
          "base_uri": "https://localhost:8080/"
        },
        "id": "OvTSnyCamhVp",
        "outputId": "2a998e8d-3a36-46f0-a424-465354780b48"
      },
      "execution_count": 13,
      "outputs": [
        {
          "output_type": "stream",
          "name": "stdout",
          "text": [
            "3\n"
          ]
        }
      ]
    },
    {
      "cell_type": "code",
      "source": [
        "#14  Write a code to find the index of the element \"cat\" in the tuple ('dog', 'cat', 'rabbit')\n",
        "\n",
        "my_tuple = ('dog', 'cat', 'rabbit')\n",
        "index_of_cat = my_tuple.index('cat')\n",
        "\n",
        "print(index_of_cat)"
      ],
      "metadata": {
        "colab": {
          "base_uri": "https://localhost:8080/"
        },
        "id": "cI05gzv7m_hp",
        "outputId": "81da8057-9c0c-4fd3-fb78-8fb6f4c73ddd"
      },
      "execution_count": 14,
      "outputs": [
        {
          "output_type": "stream",
          "name": "stdout",
          "text": [
            "1\n"
          ]
        }
      ]
    },
    {
      "cell_type": "code",
      "source": [
        "#15 Write a code to check if the element \"banana\" is in the tuple ('apple', 'orange', 'banana').\n",
        "\n",
        "my_tuple = ('apple', 'orange', 'banana')\n",
        "\n",
        "is_banana_in_tuple = 'banana' in my_tuple\n",
        "print(is_banana_in_tuple)"
      ],
      "metadata": {
        "colab": {
          "base_uri": "https://localhost:8080/"
        },
        "id": "OCwS77aXoJjH",
        "outputId": "614c8c1b-b132-469b-8e37-9eebbbfa2d05"
      },
      "execution_count": 15,
      "outputs": [
        {
          "output_type": "stream",
          "name": "stdout",
          "text": [
            "True\n"
          ]
        }
      ]
    },
    {
      "cell_type": "code",
      "source": [
        "#16 Write a code to create a set with the elements 1, 2, 3, 4, 5 and print it.\n",
        "\n",
        "my_set = {1, 2, 3, 4, 5}\n",
        "\n",
        "print(my_set)"
      ],
      "metadata": {
        "colab": {
          "base_uri": "https://localhost:8080/"
        },
        "id": "7WiAXoVLo0fX",
        "outputId": "c48a39c1-0f9c-409a-9497-c3c9d3936ecf"
      },
      "execution_count": 16,
      "outputs": [
        {
          "output_type": "stream",
          "name": "stdout",
          "text": [
            "{1, 2, 3, 4, 5}\n"
          ]
        }
      ]
    },
    {
      "cell_type": "code",
      "source": [
        "#17 Write a code to add the element 6 to the set {1, 2, 3, 4}\n",
        "\n",
        "my_set = {1, 2, 3, 4}\n",
        "my_set.add(6)\n",
        "print(my_set)"
      ],
      "metadata": {
        "colab": {
          "base_uri": "https://localhost:8080/"
        },
        "id": "W7kw44MQpYT9",
        "outputId": "26a17c54-debc-42c9-a643-dbf66f990a2e"
      },
      "execution_count": 17,
      "outputs": [
        {
          "output_type": "stream",
          "name": "stdout",
          "text": [
            "{1, 2, 3, 4, 6}\n"
          ]
        }
      ]
    },
    {
      "cell_type": "code",
      "source": [
        "#18  Write a code to create a tuple with the elements 10, 20, 30 and print it.\n",
        "\n",
        "my_tuple = (10, 20, 30)\n",
        "\n",
        "print(my_tuple)"
      ],
      "metadata": {
        "colab": {
          "base_uri": "https://localhost:8080/"
        },
        "id": "z_5537MNp5_8",
        "outputId": "1e35fd4b-7846-4685-ec9b-cfbccd4e6ec6"
      },
      "execution_count": 18,
      "outputs": [
        {
          "output_type": "stream",
          "name": "stdout",
          "text": [
            "(10, 20, 30)\n"
          ]
        }
      ]
    },
    {
      "cell_type": "code",
      "source": [
        "#19  Write a code to access the first element of the tuple ('apple', 'banana', 'cherry').\n",
        "my_tuple = ('apple', 'banana', 'cherry')\n",
        "\n",
        "first_element = my_tuple[0]\n",
        "print(first_element)"
      ],
      "metadata": {
        "colab": {
          "base_uri": "https://localhost:8080/"
        },
        "id": "kKxEnUZgqeQN",
        "outputId": "c29c06ff-0a7c-4e4c-c8d7-ef322f806d8a"
      },
      "execution_count": 19,
      "outputs": [
        {
          "output_type": "stream",
          "name": "stdout",
          "text": [
            "apple\n"
          ]
        }
      ]
    },
    {
      "cell_type": "code",
      "source": [
        "#20  Write a code to count how many times the number 2 appears in the tuple (1, 2, 3, 2, 4, 2)\n",
        "my_tuple = (1, 2, 3, 2, 4, 2)\n",
        "count_of_2 = my_tuple.count(2)\n",
        "print(count_of_2)"
      ],
      "metadata": {
        "colab": {
          "base_uri": "https://localhost:8080/"
        },
        "id": "ObHqwOuFq1Hy",
        "outputId": "b765e94b-e786-41c6-b27b-79a652bb617f"
      },
      "execution_count": 20,
      "outputs": [
        {
          "output_type": "stream",
          "name": "stdout",
          "text": [
            "3\n"
          ]
        }
      ]
    },
    {
      "cell_type": "code",
      "source": [
        "#21  Write a code to find the index of the element \"cat\" in the tuple ('dog', 'cat', 'rabbit').\n",
        "my_tuple = ('dog', 'cat', 'rabbit')\n",
        "index_of_cat = my_tuple.index('cat')\n",
        "\n",
        "print(index_of_cat)"
      ],
      "metadata": {
        "colab": {
          "base_uri": "https://localhost:8080/"
        },
        "id": "jMXvHjOkrWp6",
        "outputId": "7c4af506-6b0c-4ab7-c628-6923056264c6"
      },
      "execution_count": 21,
      "outputs": [
        {
          "output_type": "stream",
          "name": "stdout",
          "text": [
            "1\n"
          ]
        }
      ]
    },
    {
      "cell_type": "code",
      "source": [
        "#22 Write a code to check if the element \"banana\" is in the tuple ('apple', 'orange', 'banana').\n",
        "my_tuple = ('apple', 'orange', 'banana')\n",
        "\n",
        "is_banana_in_tuple = 'banana' in my_tuple\n",
        "print(is_banana_in_tuple)"
      ],
      "metadata": {
        "colab": {
          "base_uri": "https://localhost:8080/"
        },
        "id": "d2TGY4njrn9A",
        "outputId": "afbcfa43-7813-4e97-8ad4-c0754299b35e"
      },
      "execution_count": 22,
      "outputs": [
        {
          "output_type": "stream",
          "name": "stdout",
          "text": [
            "True\n"
          ]
        }
      ]
    },
    {
      "cell_type": "code",
      "source": [
        "#23  Write a code to create a set with the elements 1, 2, 3, 4, 5 and print it.\n",
        "my_set = {1, 2, 3, 4, 5}\n",
        "\n",
        "print(my_set)"
      ],
      "metadata": {
        "colab": {
          "base_uri": "https://localhost:8080/"
        },
        "id": "1jpnXGVssCni",
        "outputId": "2594da1c-bbc5-4022-b3d1-6fc616ef6907"
      },
      "execution_count": 24,
      "outputs": [
        {
          "output_type": "stream",
          "name": "stdout",
          "text": [
            "{1, 2, 3, 4, 5}\n"
          ]
        }
      ]
    },
    {
      "cell_type": "code",
      "source": [
        "#24 . Write a code to add the element 6 to the set {1, 2, 3, 4}.\n",
        "my_set = {1, 2, 3, 4}\n",
        "my_set.add(6)\n",
        "print(my_set)"
      ],
      "metadata": {
        "colab": {
          "base_uri": "https://localhost:8080/"
        },
        "id": "c3SaTHfgskKD",
        "outputId": "e7809dab-7fc1-485e-f508-ae46fd1a5110"
      },
      "execution_count": 27,
      "outputs": [
        {
          "output_type": "stream",
          "name": "stdout",
          "text": [
            "{1, 2, 3, 4, 6}\n"
          ]
        }
      ]
    }
  ]
}